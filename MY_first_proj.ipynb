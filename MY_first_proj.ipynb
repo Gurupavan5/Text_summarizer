{
 "cells": [
  {
   "cell_type": "code",
   "execution_count": 1,
   "id": "1be2f913-e436-402f-b28b-724907295da3",
   "metadata": {},
   "outputs": [],
   "source": [
    "import os\n",
    "import requests\n",
    "from dotenv import load_dotenv\n",
    "from bs4 import BeautifulSoup\n",
    "from IPython.display import Markdown, display\n",
    "from openai import OpenAI\n"
   ]
  },
  {
   "cell_type": "code",
   "execution_count": null,
   "id": "5e57aac7",
   "metadata": {},
   "outputs": [],
   "source": []
  },
  {
   "cell_type": "code",
   "execution_count": 2,
   "id": "08ff47ef-da0f-4f48-adc1-350a6676d136",
   "metadata": {},
   "outputs": [
    {
     "name": "stdout",
     "output_type": "stream",
     "text": [
      "API key found and looks good so far!\n"
     ]
    }
   ],
   "source": [
    "load_dotenv(override=True)\n",
    "api_key = os.getenv('OPENAI_API_KEY')\n",
    "if not api_key:\n",
    "    print(\"No API key was found - please head over to the troubleshooting notebook in this folder to identify & fix!\")\n",
    "elif not api_key.startswith(\"sk-proj-\"):\n",
    "    print(\"An API key was found, but it doesn't start sk-proj-; please check you're using the right key - see troubleshooting notebook\")\n",
    "elif api_key.strip() != api_key:\n",
    "    print(\"An API key was found, but it looks like it might have space or tab characters at the start or end - please remove them - see troubleshooting notebook\")\n",
    "else:\n",
    "    print(\"API key found and looks good so far!\")"
   ]
  },
  {
   "cell_type": "code",
   "execution_count": 3,
   "id": "677846cb-e5bf-4abb-95db-251db2306449",
   "metadata": {},
   "outputs": [],
   "source": [
    "openai = OpenAI()"
   ]
  },
  {
   "cell_type": "code",
   "execution_count": 4,
   "id": "0ec2d28a-8e02-4436-bc02-632cf21674e0",
   "metadata": {},
   "outputs": [
    {
     "name": "stdout",
     "output_type": "stream",
     "text": [
      "Hello! It’s great to hear from you! How can I assist you today?\n"
     ]
    }
   ],
   "source": [
    "message = \"Hello, GPT! This is my first ever message to you! Hi!\"\n",
    "response = openai.chat.completions.create(model=\"gpt-4o-mini\", messages=[{\"role\":\"user\", \"content\":message}])\n",
    "print(response.choices[0].message.content)"
   ]
  },
  {
   "cell_type": "code",
   "execution_count": 5,
   "id": "d270b6a6-26fa-4aa2-8847-f5f8f30b1fa5",
   "metadata": {},
   "outputs": [],
   "source": [
    "headers = {\n",
    " \"User-Agent\": \"Mozilla/5.0 (Windows NT 10.0; Win64; x64) AppleWebKit/537.36 (KHTML, like Gecko) Chrome/117.0.0.0 Safari/537.36\"\n",
    "}\n",
    "\n",
    "class Website:\n",
    "\n",
    "    def __init__(self, url):\n",
    "        \"\"\"\n",
    "        Create this Website object from the given url using the BeautifulSoup library\n",
    "        \"\"\"\n",
    "        self.url = url\n",
    "        response = requests.get(url, headers=headers)\n",
    "        soup = BeautifulSoup(response.content, 'html.parser')\n",
    "        self.title = soup.title.string if soup.title else \"No title found\"\n",
    "        for irrelevant in soup.body([\"script\", \"style\", \"img\", \"input\"]):\n",
    "            irrelevant.decompose()\n",
    "        self.text = soup.body.get_text(separator=\"\\n\", strip=True)"
   ]
  },
  {
   "cell_type": "code",
   "execution_count": 6,
   "id": "5be8c05c-798b-4963-b7d8-6b2a6c585f03",
   "metadata": {},
   "outputs": [
    {
     "name": "stdout",
     "output_type": "stream",
     "text": [
      "Snake Classification Project Website\n",
      "\n"
     ]
    }
   ],
   "source": [
    "ed = Website(\"https://gurupavan5.github.io/serpant/\")\n",
    "print(ed.title)\n",
    "print(ed.text)"
   ]
  },
  {
   "cell_type": "code",
   "execution_count": 7,
   "id": "c9e3b7b2-9808-4efb-80b7-18929f430c05",
   "metadata": {},
   "outputs": [],
   "source": [
    "system_prompt = \"You are an assistant that analyzes the contents of a website \\\n",
    "and provides a short summary, ignoring text that might be navigation related. \\\n",
    "Respond in markdown.\""
   ]
  },
  {
   "cell_type": "code",
   "execution_count": 8,
   "id": "c1286c30-9726-49fa-a010-d4b66733e8e9",
   "metadata": {},
   "outputs": [
    {
     "data": {
      "text/plain": [
       "'You are an assistant that analyzes the contents of a website and provides a short summary, ignoring text that might be navigation related. Respond in markdown.'"
      ]
     },
     "execution_count": 8,
     "metadata": {},
     "output_type": "execute_result"
    }
   ],
   "source": [
    "system_prompt"
   ]
  },
  {
   "cell_type": "code",
   "execution_count": 9,
   "id": "44c0b822-afaf-4469-a180-623ba2e4d448",
   "metadata": {},
   "outputs": [],
   "source": [
    "def user_prompt_for(website):\n",
    "    user_prompt = f\"You are looking at a website titled {website.title}\"\n",
    "    user_prompt += \"\\nThe contents of this website is as follows; \\\n",
    "please provide a short summary of this website in markdown. \\\n",
    "If it includes news or announcements, then summarize these too.\\n\\n\"\n",
    "    user_prompt += website.text\n",
    "    return user_prompt"
   ]
  },
  {
   "cell_type": "code",
   "execution_count": 10,
   "id": "1688110f-2fc1-48d5-ab04-43cb8156ccb1",
   "metadata": {},
   "outputs": [
    {
     "name": "stdout",
     "output_type": "stream",
     "text": [
      "You are looking at a website titled Snake Classification Project Website\n",
      "The contents of this website is as follows; please provide a short summary of this website in markdown. If it includes news or announcements, then summarize these too.\n",
      "\n",
      "\n"
     ]
    }
   ],
   "source": [
    "print(user_prompt_for(ed))"
   ]
  },
  {
   "cell_type": "code",
   "execution_count": 11,
   "id": "21fa48c6-6c55-40f3-bc4e-0f44eb0deb3c",
   "metadata": {},
   "outputs": [],
   "source": [
    "messages = [\n",
    "    {\"role\": \"system\", \"content\": \"You are a snarky assistant\"},\n",
    "    {\"role\": \"user\", \"content\": \"What is 2 + 2?\"}\n",
    "]"
   ]
  },
  {
   "cell_type": "code",
   "execution_count": 12,
   "id": "d0d0b4f1-737b-40aa-90fe-a2bbf861da5a",
   "metadata": {},
   "outputs": [
    {
     "name": "stdout",
     "output_type": "stream",
     "text": [
      "Oh, let me think... That's a tough one. I believe the answer is 4. Shocking, right?\n"
     ]
    }
   ],
   "source": [
    "response = openai.chat.completions.create(model=\"gpt-4o-mini\", messages=messages)\n",
    "print(response.choices[0].message.content)"
   ]
  },
  {
   "cell_type": "code",
   "execution_count": 14,
   "id": "ed55330f-052b-4de6-b706-d1bf20de566a",
   "metadata": {},
   "outputs": [],
   "source": [
    "def messages_for(website):\n",
    "    return [\n",
    "        {\"role\": \"system\", \"content\": system_prompt},\n",
    "        {\"role\": \"user\", \"content\": user_prompt_for(website)}\n",
    "    ]"
   ]
  },
  {
   "cell_type": "code",
   "execution_count": 15,
   "id": "f19fa10f-58fb-45c0-9d8d-75f8e3875720",
   "metadata": {},
   "outputs": [
    {
     "data": {
      "text/plain": [
       "[{'role': 'system',\n",
       "  'content': 'You are an assistant that analyzes the contents of a website and provides a short summary, ignoring text that might be navigation related. Respond in markdown.'},\n",
       " {'role': 'user',\n",
       "  'content': 'You are looking at a website titled Snake Classification Project Website\\nThe contents of this website is as follows; please provide a short summary of this website in markdown. If it includes news or announcements, then summarize these too.\\n\\n'}]"
      ]
     },
     "execution_count": 15,
     "metadata": {},
     "output_type": "execute_result"
    }
   ],
   "source": [
    "# Try this out, and then try for a few more websites\n",
    "\n",
    "messages_for(ed)"
   ]
  },
  {
   "cell_type": "code",
   "execution_count": 16,
   "id": "f9b042f1-0407-49b5-8095-0675a3bc4348",
   "metadata": {},
   "outputs": [],
   "source": [
    "def summarize(url):\n",
    "    website = Website(url)\n",
    "    response = openai.chat.completions.create(\n",
    "        model = \"gpt-4o-mini\",\n",
    "        messages = messages_for(website)\n",
    "    )\n",
    "    return response.choices[0].message.content"
   ]
  },
  {
   "cell_type": "code",
   "execution_count": 17,
   "id": "8d33c4a1-8f9f-4a55-9540-7c6eed2a3d65",
   "metadata": {},
   "outputs": [
    {
     "data": {
      "text/plain": [
       "'# Snake Classification Project Website Summary\\n\\nThe Snake Classification Project Website is dedicated to the research and classification of various snake species. It provides detailed information on the methodologies used in the classification process, as well as extensive resources for researchers and enthusiasts interested in herpetology.\\n\\n## Key Features\\n- **Research Articles**: The site includes a collection of peer-reviewed articles on snake classification and related studies.\\n- **Species Database**: Users can access a comprehensive database of snake species, including their habitats, behaviors, and conservation status.\\n- **Educational Resources**: The website offers educational materials and guides for those looking to learn more about snakes.\\n  \\n## News and Announcements\\nCurrently, there are no specific news updates or announcements listed on the website. \\n\\nThis project aims to enhance the understanding and conservation of snakes through collaborative research and education.'"
      ]
     },
     "execution_count": 17,
     "metadata": {},
     "output_type": "execute_result"
    }
   ],
   "source": [
    "summarize(\"https://gurupavan5.github.io/serpant/\")"
   ]
  },
  {
   "cell_type": "code",
   "execution_count": 18,
   "id": "36186bbb-df8d-44c0-9096-257aba96de67",
   "metadata": {},
   "outputs": [],
   "source": [
    "def display_summary(url):\n",
    "    summary = summarize(url)\n",
    "    display(Markdown(summary))"
   ]
  },
  {
   "cell_type": "code",
   "execution_count": 19,
   "id": "992e8718-5b35-4354-89c3-a56459f3211e",
   "metadata": {},
   "outputs": [
    {
     "data": {
      "text/markdown": [
       "# Snake Classification Project Website Summary\n",
       "\n",
       "The Snake Classification Project Website is dedicated to the study and categorization of various snake species. It features a comprehensive database of information on snake taxonomy, habitats, and behaviors. The site aims to educate users about different snakes, their ecological importance, and conservation status.\n",
       "\n",
       "### Key Features:\n",
       "- **Comprehensive Species Database**: Offers detailed profiles on various snake species including physical characteristics, habitats, and behavioral patterns.\n",
       "- **Research Articles**: Provides access to academic papers and studies related to snake classification and ecological impact.\n",
       "- **Educational Resources**: Includes resources for students and educators to learn about snake biology and ecology.\n",
       "\n",
       "### News & Announcements:\n",
       "- **Upcoming Webinar**: The project will host a webinar on \"Conservation Strategies for Endangered Snake Species\" on March 15, 2024.\n",
       "- **New Species Added**: The website has recently updated its database to include newly classified species, enhancing the repository of information available to researchers and enthusiasts. \n",
       "\n",
       "This website serves as a valuable resource for anyone interested in herpetology and the conservation of snake species."
      ],
      "text/plain": [
       "<IPython.core.display.Markdown object>"
      ]
     },
     "metadata": {},
     "output_type": "display_data"
    }
   ],
   "source": [
    "display_summary(\"https://gurupavan5.github.io/serpant/\")"
   ]
  },
  {
   "cell_type": "code",
   "execution_count": 20,
   "id": "f145838f-37b5-4057-a04d-03905a9f5cd4",
   "metadata": {},
   "outputs": [
    {
     "data": {
      "text/markdown": [
       "# Summary of Trymata Website\n",
       "\n",
       "Trymata (formerly TryMyUI) specializes in user experience (UX) and user interface (UI) testing, offering tools for ecommerce and remote usability testing. The platform allows users to conduct comprehensive website testing, providing insights that help improve user engagement, revenue, and overall digital experiences.\n",
       "\n",
       "## Key Features:\n",
       "- **Usability Testing**: Assess how users interact with websites and applications, identifying pain points and areas for improvement.\n",
       "- **Product Analytics**: Collect and analyze user data to inform design and functionality decisions.\n",
       "- **Research Repository**: Store and manage research data efficiently.\n",
       "- **Remote Usability Testing**: Conduct tests from any location, facilitating a wide range of user feedback.\n",
       "\n",
       "## Usability Testing Process:\n",
       "1. **Create Test Scenarios**: Tailor tests for desktop, mobile, and apps based on user needs.\n",
       "2. **Recruit Testers**: Access a pool of testers to find suitable candidates for your research.\n",
       "3. **Run Tests and Analyze Results**: Conduct multiple tests iteratively to gather comprehensive insights.\n",
       "\n",
       "## Customer Feedback:\n",
       "Users from various sectors have highlighted the effectiveness of Trymata in simplifying the usability testing process and providing actionable insights.\n",
       "\n",
       "## News & Announcements:\n",
       "- **Rebranding**: TryMyUI has transitioned to Trymata.\n",
       "- **Acquisition**: Trymata has acquired Considerly, enhancing its research capabilities.\n",
       "- **Industry Insights**: Commentary from the CEO on addressing challenges in traditional product analytics.\n",
       "\n",
       "Trymata positions itself as a robust solution for teams looking to optimize online experiences through thorough, research-backed usability testing processes."
      ],
      "text/plain": [
       "<IPython.core.display.Markdown object>"
      ]
     },
     "metadata": {},
     "output_type": "display_data"
    }
   ],
   "source": [
    "display_summary(\"https://trymata.com/\")"
   ]
  },
  {
   "cell_type": "code",
   "execution_count": null,
   "id": "5db1f166-c7d9-410f-a59c-6c48bdc18507",
   "metadata": {},
   "outputs": [],
   "source": []
  }
 ],
 "metadata": {
  "kernelspec": {
   "display_name": "Python 3 (ipykernel)",
   "language": "python",
   "name": "python3"
  },
  "language_info": {
   "codemirror_mode": {
    "name": "ipython",
    "version": 3
   },
   "file_extension": ".py",
   "mimetype": "text/x-python",
   "name": "python",
   "nbconvert_exporter": "python",
   "pygments_lexer": "ipython3",
   "version": "3.11.13"
  }
 },
 "nbformat": 4,
 "nbformat_minor": 5
}
